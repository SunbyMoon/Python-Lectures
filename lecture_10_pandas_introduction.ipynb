{
 "cells": [
  {
   "cell_type": "markdown",
   "metadata": {},
   "source": [
    "# Pandas"
   ]
  },
  {
   "cell_type": "code",
   "execution_count": 1,
   "metadata": {
    "collapsed": false
   },
   "outputs": [],
   "source": [
    "import pandas as pd\n",
    "import numpy as np"
   ]
  },
  {
   "cell_type": "markdown",
   "metadata": {},
   "source": [
    "## Creating DataFrames\n",
    "\n",
    "The two important structures for `pandas` is the `Series` and the `DataFrame`.  Let's start with `DataFrame`s.  \n",
    "\n",
    "Data: a few lists"
   ]
  },
  {
   "cell_type": "code",
   "execution_count": 2,
   "metadata": {
    "collapsed": false
   },
   "outputs": [],
   "source": [
    "names = ['John', 'Matt', 'Sara', 'Jim', 'Ashley']\n",
    "ids = [ 23, 34, 83, 86, 12]\n",
    "balance = [10.2, 84.3, 72.9, 27.1, 223.1]"
   ]
  },
  {
   "cell_type": "markdown",
   "metadata": {},
   "source": [
    "### Dictionaries"
   ]
  },
  {
   "cell_type": "code",
   "execution_count": 3,
   "metadata": {
    "collapsed": false
   },
   "outputs": [
    {
     "name": "stdout",
     "output_type": "stream",
     "text": [
      "     bal  ids   names\n",
      "0   10.2   23    John\n",
      "1   84.3   34    Matt\n",
      "2   72.9   83    Sara\n",
      "3   27.1   86     Jim\n",
      "4  223.1   12  Ashley\n"
     ]
    }
   ],
   "source": [
    "dic = {'ids': ids, 'names': names, 'bal':balance}\n",
    "\n",
    "users = pd.DataFrame(dic)\n",
    "print users"
   ]
  },
  {
   "cell_type": "code",
   "execution_count": 4,
   "metadata": {
    "collapsed": false
   },
   "outputs": [
    {
     "name": "stdout",
     "output_type": "stream",
     "text": [
      "      bal   names\n",
      "23   10.2    John\n",
      "34   84.3    Matt\n",
      "83   72.9    Sara\n",
      "86   27.1     Jim\n",
      "12  223.1  Ashley\n"
     ]
    }
   ],
   "source": [
    "users = pd.DataFrame({'names': names, 'bal':balance}, index=ids)\n",
    "print users"
   ]
  },
  {
   "cell_type": "markdown",
   "metadata": {},
   "source": [
    "Note: JSON format converts to a dictionary."
   ]
  },
  {
   "cell_type": "markdown",
   "metadata": {},
   "source": [
    "### Reading from a file\n",
    "\n",
    "This example uses the names datafiles from [Social Security Administration](http://www.ssa.gov/oact/babynames/limits.html) and is based on the examples in Wes Mickinney's book [Python for Data Analysis](http://shop.oreilly.com/product/0636920023784.do)"
   ]
  },
  {
   "cell_type": "code",
   "execution_count": 5,
   "metadata": {
    "collapsed": false
   },
   "outputs": [
    {
     "name": "stdout",
     "output_type": "stream",
     "text": [
      "data/yob1880.txt\n",
      "        Mary  F  7065\n",
      "0       Anna  F  2604\n",
      "1       Emma  F  2003\n",
      "2  Elizabeth  F  1939\n"
     ]
    }
   ],
   "source": [
    "import os\n",
    "filename = os.path.join('data','yob1880.txt')\n",
    "print filename\n",
    "names = pd.read_csv(filename)\n",
    "print names.head(3) #First 3 items"
   ]
  },
  {
   "cell_type": "code",
   "execution_count": 6,
   "metadata": {
    "collapsed": false
   },
   "outputs": [],
   "source": [
    "?pd.read_csv"
   ]
  },
  {
   "cell_type": "markdown",
   "metadata": {},
   "source": [
    "If the file does not contain a header, then the names of the columns need to be passed as the **names** argument."
   ]
  },
  {
   "cell_type": "code",
   "execution_count": 7,
   "metadata": {
    "collapsed": false
   },
   "outputs": [
    {
     "name": "stdout",
     "output_type": "stream",
     "text": [
      "           name gender  births\n",
      "1995     Woodie      M       5\n",
      "1996     Worthy      M       5\n",
      "1997     Wright      M       5\n",
      "1998       York      M       5\n",
      "1999  Zachariah      M       5\n"
     ]
    }
   ],
   "source": [
    "names = pd.read_csv(filename, names=['name','gender','births'])\n",
    "print names.tail() # last items, 5 by default"
   ]
  },
  {
   "cell_type": "markdown",
   "metadata": {},
   "source": [
    "### Excel\n",
    "\n",
    "We'll come back to this data later."
   ]
  },
  {
   "cell_type": "code",
   "execution_count": 8,
   "metadata": {
    "collapsed": false
   },
   "outputs": [
    {
     "name": "stdout",
     "output_type": "stream",
     "text": [
      "  Unnamed: 0  Unnamed: 1  Lowest fifth  Second fifth  Third fifth  \\\n",
      "0       2012      122459         3.230         8.332       14.360   \n",
      "1       2011      121084         3.200         8.400       14.300   \n",
      "2  2010 (37)      119927         3.268         8.467       14.591   \n",
      "3  2009 (36)      117538         3.409         8.607       14.572   \n",
      "4       2008      117181         3.400         8.600       14.700   \n",
      "\n",
      "   Fourth fifth  Highest fifth  Top 5 percent  \n",
      "0        23.036         51.041         22.311  \n",
      "1        23.000         51.100         22.300  \n",
      "2        23.407         50.267         21.307  \n",
      "3        23.151         50.260         21.725  \n",
      "4        23.300         50.000         21.500  \n"
     ]
    }
   ],
   "source": [
    "df = pd.read_excel('data/income_2012.xls', 'H02', skiprows=4)\n",
    "print df.head()"
   ]
  },
  {
   "cell_type": "markdown",
   "metadata": {},
   "source": [
    "### Other methods\n",
    "\n",
    "You can also read from sql or hdf5 files."
   ]
  },
  {
   "cell_type": "markdown",
   "metadata": {},
   "source": [
    "## Selecting data\n",
    "\n",
    "There are several ways to access the row and column data.\n",
    "\n",
    "### Rows, the `ix` method"
   ]
  },
  {
   "cell_type": "code",
   "execution_count": 9,
   "metadata": {
    "collapsed": false
   },
   "outputs": [
    {
     "name": "stdout",
     "output_type": "stream",
     "text": [
      "name      Mary\n",
      "gender       F\n",
      "births    7065\n",
      "Name: 0, dtype: object\n"
     ]
    }
   ],
   "source": [
    "print names.ix[0]"
   ]
  },
  {
   "cell_type": "code",
   "execution_count": 10,
   "metadata": {
    "collapsed": false
   },
   "outputs": [
    {
     "name": "stdout",
     "output_type": "stream",
     "text": [
      "   name gender  births\n",
      "0  Mary      F    7065\n",
      "1  Anna      F    2604\n",
      "2  Emma      F    2003\n"
     ]
    }
   ],
   "source": [
    "print names.ix[0:2]"
   ]
  },
  {
   "cell_type": "code",
   "execution_count": 11,
   "metadata": {
    "collapsed": false
   },
   "outputs": [
    {
     "name": "stdout",
     "output_type": "stream",
     "text": [
      "        name gender  births\n",
      "0       Mary      F    7065\n",
      "2       Emma      F    2003\n",
      "3  Elizabeth      F    1939\n"
     ]
    }
   ],
   "source": [
    "rows_a = [0,2,3]\n",
    "print names.ix[rows_a]"
   ]
  },
  {
   "cell_type": "code",
   "execution_count": 12,
   "metadata": {
    "collapsed": false
   },
   "outputs": [
    {
     "name": "stdout",
     "output_type": "stream",
     "text": [
      "      bal   names\n",
      "23   10.2    John\n",
      "34   84.3    Matt\n",
      "83   72.9    Sara\n",
      "86   27.1     Jim\n",
      "12  223.1  Ashley\n"
     ]
    }
   ],
   "source": [
    "print users"
   ]
  },
  {
   "cell_type": "markdown",
   "metadata": {},
   "source": [
    "It's not the index **value** it's the index itself.  e.g."
   ]
  },
  {
   "cell_type": "code",
   "execution_count": 13,
   "metadata": {
    "collapsed": false
   },
   "outputs": [
    {
     "name": "stdout",
     "output_type": "stream",
     "text": [
      "bal      27.1\n",
      "names     Jim\n",
      "Name: 86, dtype: object\n"
     ]
    }
   ],
   "source": [
    "print users.ix[86]"
   ]
  },
  {
   "cell_type": "code",
   "execution_count": 14,
   "metadata": {
    "collapsed": false
   },
   "outputs": [
    {
     "name": "stdout",
     "output_type": "stream",
     "text": [
      "         23    34    83    86      12\n",
      "bal    10.2  84.3  72.9  27.1   223.1\n",
      "names  John  Matt  Sara   Jim  Ashley\n"
     ]
    }
   ],
   "source": [
    "print users.T.head()"
   ]
  },
  {
   "cell_type": "code",
   "execution_count": 15,
   "metadata": {
    "collapsed": false
   },
   "outputs": [
    {
     "name": "stdout",
     "output_type": "stream",
     "text": [
      "           name gender  births\n",
      "0          Mary      F    7065\n",
      "1          Anna      F    2604\n",
      "2          Emma      F    2003\n",
      "3     Elizabeth      F    1939\n",
      "4        Minnie      F    1746\n",
      "5      Margaret      F    1578\n",
      "6           Ida      F    1472\n",
      "7         Alice      F    1414\n",
      "8        Bertha      F    1320\n",
      "9         Sarah      F    1288\n",
      "10        Annie      F    1258\n",
      "11        Clara      F    1226\n",
      "12         Ella      F    1156\n",
      "13     Florence      F    1063\n",
      "14         Cora      F    1045\n",
      "15       Martha      F    1040\n",
      "16        Laura      F    1012\n",
      "17       Nellie      F     995\n",
      "18        Grace      F     982\n",
      "19       Carrie      F     949\n",
      "20        Maude      F     858\n",
      "21        Mabel      F     808\n",
      "22       Bessie      F     796\n",
      "23       Jennie      F     793\n",
      "24     Gertrude      F     787\n",
      "25        Julia      F     783\n",
      "26       Hattie      F     769\n",
      "27        Edith      F     768\n",
      "28       Mattie      F     704\n",
      "29         Rose      F     700\n",
      "...         ...    ...     ...\n",
      "1970      Philo      M       5\n",
      "1971    Phineas      M       5\n",
      "1972    Presley      M       5\n",
      "1973     Ransom      M       5\n",
      "1974      Reece      M       5\n",
      "1975       Rene      M       5\n",
      "1976    Roswell      M       5\n",
      "1977    Rowland      M       5\n",
      "1978    Sampson      M       5\n",
      "1979     Samual      M       5\n",
      "1980     Santos      M       5\n",
      "1981   Schuyler      M       5\n",
      "1982   Sheppard      M       5\n",
      "1983   Spurgeon      M       5\n",
      "1984   Starling      M       5\n",
      "1985   Sylvanus      M       5\n",
      "1986   Theadore      M       5\n",
      "1987  Theophile      M       5\n",
      "1988     Tilmon      M       5\n",
      "1989      Tommy      M       5\n",
      "1990    Unknown      M       5\n",
      "1991       Vann      M       5\n",
      "1992        Wes      M       5\n",
      "1993    Winston      M       5\n",
      "1994       Wood      M       5\n",
      "1995     Woodie      M       5\n",
      "1996     Worthy      M       5\n",
      "1997     Wright      M       5\n",
      "1998       York      M       5\n",
      "1999  Zachariah      M       5\n",
      "\n",
      "[2000 rows x 3 columns]\n"
     ]
    }
   ],
   "source": [
    "print names"
   ]
  },
  {
   "cell_type": "markdown",
   "metadata": {},
   "source": [
    "### Column data"
   ]
  },
  {
   "cell_type": "code",
   "execution_count": 16,
   "metadata": {
    "collapsed": false
   },
   "outputs": [
    {
     "name": "stdout",
     "output_type": "stream",
     "text": [
      "23     10.2\n",
      "34     84.3\n",
      "83     72.9\n",
      "86     27.1\n",
      "12    223.1\n",
      "Name: bal, dtype: float64\n"
     ]
    }
   ],
   "source": [
    "print users.ix[:,0].head()"
   ]
  },
  {
   "cell_type": "code",
   "execution_count": 17,
   "metadata": {
    "collapsed": false
   },
   "outputs": [
    {
     "name": "stdout",
     "output_type": "stream",
     "text": [
      "   births gender       name\n",
      "0    7065      F       Mary\n",
      "1    2604      F       Anna\n",
      "2    2003      F       Emma\n",
      "3    1939      F  Elizabeth\n",
      "4    1746      F     Minnie\n"
     ]
    }
   ],
   "source": [
    "print names.ix[:,[2,1,0]].head()"
   ]
  },
  {
   "cell_type": "markdown",
   "metadata": {},
   "source": [
    "Even better... grab them by name!"
   ]
  },
  {
   "cell_type": "code",
   "execution_count": 18,
   "metadata": {
    "collapsed": false
   },
   "outputs": [
    {
     "name": "stdout",
     "output_type": "stream",
     "text": [
      "23      John\n",
      "34      Matt\n",
      "83      Sara\n",
      "86       Jim\n",
      "12    Ashley\n",
      "Name: names, dtype: object\n"
     ]
    }
   ],
   "source": [
    "print users['names']"
   ]
  },
  {
   "cell_type": "markdown",
   "metadata": {},
   "source": [
    "Or use the `.` (dot) notation."
   ]
  },
  {
   "cell_type": "code",
   "execution_count": 19,
   "metadata": {
    "collapsed": false
   },
   "outputs": [
    {
     "name": "stdout",
     "output_type": "stream",
     "text": [
      "0    7065\n",
      "1    2604\n",
      "2    2003\n",
      "3    1939\n",
      "4    1746\n",
      "Name: births, dtype: int64\n"
     ]
    }
   ],
   "source": [
    "print names['births'].head()"
   ]
  },
  {
   "cell_type": "markdown",
   "metadata": {},
   "source": [
    "Mix and match"
   ]
  },
  {
   "cell_type": "code",
   "execution_count": 20,
   "metadata": {
    "collapsed": false
   },
   "outputs": [
    {
     "name": "stdout",
     "output_type": "stream",
     "text": [
      "   gender  births\n",
      "0       F    7065\n",
      "1       F    2604\n",
      "2       F    2003\n",
      "3       F    1939\n",
      "4       F    1746\n",
      "5       F    1578\n",
      "6       F    1472\n",
      "7       F    1414\n",
      "8       F    1320\n",
      "9       F    1288\n",
      "10      F    1258\n"
     ]
    }
   ],
   "source": [
    "print names.ix[0:10,['gender','births']]"
   ]
  },
  {
   "cell_type": "markdown",
   "metadata": {},
   "source": [
    "## Index objects"
   ]
  },
  {
   "cell_type": "code",
   "execution_count": 21,
   "metadata": {
    "collapsed": false
   },
   "outputs": [
    {
     "name": "stdout",
     "output_type": "stream",
     "text": [
      "Int64Index([23, 34, 83, 86, 12], dtype='int64')\n",
      "[23 34 83 86 12]\n"
     ]
    }
   ],
   "source": [
    "print users.index\n",
    "print users.index.values"
   ]
  },
  {
   "cell_type": "markdown",
   "metadata": {},
   "source": [
    "Several types, including:\n",
    "\n",
    "- MultiIndex\n",
    "- DatatimeIndex\n",
    "- PeriodIndex"
   ]
  },
  {
   "cell_type": "markdown",
   "metadata": {},
   "source": [
    "### reset_index"
   ]
  },
  {
   "cell_type": "code",
   "execution_count": 22,
   "metadata": {
    "collapsed": false
   },
   "outputs": [
    {
     "name": "stdout",
     "output_type": "stream",
     "text": [
      "      bal   names\n",
      "23   10.2    John\n",
      "34   84.3    Matt\n",
      "83   72.9    Sara\n",
      "86   27.1     Jim\n",
      "12  223.1  Ashley\n"
     ]
    }
   ],
   "source": [
    "print users.head()"
   ]
  },
  {
   "cell_type": "code",
   "execution_count": 23,
   "metadata": {
    "collapsed": false
   },
   "outputs": [
    {
     "name": "stdout",
     "output_type": "stream",
     "text": [
      "   index    bal   names\n",
      "0     23   10.2    John\n",
      "1     34   84.3    Matt\n",
      "2     83   72.9    Sara\n",
      "3     86   27.1     Jim\n",
      "4     12  223.1  Ashley\n"
     ]
    }
   ],
   "source": [
    "print users.reset_index().head()"
   ]
  },
  {
   "cell_type": "code",
   "execution_count": 24,
   "metadata": {
    "collapsed": false
   },
   "outputs": [
    {
     "name": "stdout",
     "output_type": "stream",
     "text": [
      "      bal   names\n",
      "23   10.2    John\n",
      "34   84.3    Matt\n",
      "83   72.9    Sara\n",
      "86   27.1     Jim\n",
      "12  223.1  Ashley\n"
     ]
    }
   ],
   "source": [
    "print users.head()"
   ]
  },
  {
   "cell_type": "code",
   "execution_count": 25,
   "metadata": {
    "collapsed": false
   },
   "outputs": [
    {
     "name": "stdout",
     "output_type": "stream",
     "text": [
      "   index    bal   names\n",
      "0     23   10.2    John\n",
      "1     34   84.3    Matt\n",
      "2     83   72.9    Sara\n",
      "3     86   27.1     Jim\n",
      "4     12  223.1  Ashley\n"
     ]
    }
   ],
   "source": [
    "#users.reset_index(inplace=True)\n",
    "tmp = users.reset_index()\n",
    "print tmp.head()"
   ]
  },
  {
   "cell_type": "markdown",
   "metadata": {},
   "source": [
    "### set_index"
   ]
  },
  {
   "cell_type": "code",
   "execution_count": 26,
   "metadata": {
    "collapsed": false
   },
   "outputs": [
    {
     "name": "stdout",
     "output_type": "stream",
     "text": [
      "      bal   names\n",
      "23   10.2    John\n",
      "34   84.3    Matt\n",
      "83   72.9    Sara\n",
      "86   27.1     Jim\n",
      "12  223.1  Ashley\n"
     ]
    }
   ],
   "source": [
    "print users"
   ]
  },
  {
   "cell_type": "code",
   "execution_count": 27,
   "metadata": {
    "collapsed": false
   },
   "outputs": [],
   "source": [
    "users = users.set_index('names')"
   ]
  },
  {
   "cell_type": "code",
   "execution_count": 28,
   "metadata": {
    "collapsed": false
   },
   "outputs": [
    {
     "name": "stdout",
     "output_type": "stream",
     "text": [
      "          bal\n",
      "names        \n",
      "John     10.2\n",
      "Matt     84.3\n",
      "Sara     72.9\n",
      "Jim      27.1\n",
      "Ashley  223.1\n"
     ]
    }
   ],
   "source": [
    "print users"
   ]
  },
  {
   "cell_type": "markdown",
   "metadata": {},
   "source": [
    "## Essentials"
   ]
  },
  {
   "cell_type": "markdown",
   "metadata": {},
   "source": [
    "### Filtering"
   ]
  },
  {
   "cell_type": "code",
   "execution_count": 29,
   "metadata": {
    "collapsed": false
   },
   "outputs": [
    {
     "name": "stdout",
     "output_type": "stream",
     "text": [
      "names\n",
      "John      False\n",
      "Matt       True\n",
      "Sara       True\n",
      "Jim       False\n",
      "Ashley     True\n",
      "Name: bal, dtype: bool\n",
      "[False  True  True False  True]\n"
     ]
    }
   ],
   "source": [
    "print users.bal > 30.0\n",
    "tmp = users.bal > 30.0\n",
    "print tmp.values"
   ]
  },
  {
   "cell_type": "code",
   "execution_count": 30,
   "metadata": {
    "collapsed": false
   },
   "outputs": [
    {
     "name": "stdout",
     "output_type": "stream",
     "text": [
      "          bal\n",
      "names        \n",
      "Matt     84.3\n",
      "Sara     72.9\n",
      "Ashley  223.1\n"
     ]
    }
   ],
   "source": [
    "print users[np.array(tmp.values)].head()"
   ]
  },
  {
   "cell_type": "code",
   "execution_count": 31,
   "metadata": {
    "collapsed": false
   },
   "outputs": [
    {
     "name": "stdout",
     "output_type": "stream",
     "text": [
      "        name gender  births\n",
      "0       Mary      F    7065\n",
      "1       Anna      F    2604\n",
      "2       Emma      F    2003\n",
      "3  Elizabeth      F    1939\n",
      "4     Minnie      F    1746\n"
     ]
    }
   ],
   "source": [
    "print names[names.gender == 'F'].head()"
   ]
  },
  {
   "cell_type": "code",
   "execution_count": 32,
   "metadata": {
    "collapsed": false
   },
   "outputs": [
    {
     "name": "stdout",
     "output_type": "stream",
     "text": [
      "        name  births\n",
      "0       Mary    7065\n",
      "1       Anna    2604\n",
      "2       Emma    2003\n",
      "3  Elizabeth    1939\n",
      "4     Minnie    1746\n"
     ]
    }
   ],
   "source": [
    "print names.ix[names.gender == 'F',['name','births']].head()"
   ]
  },
  {
   "cell_type": "code",
   "execution_count": 33,
   "metadata": {
    "collapsed": false
   },
   "outputs": [],
   "source": [
    "mask1 = names.gender == 'M'\n",
    "mask2 = names.births > 2000"
   ]
  },
  {
   "cell_type": "code",
   "execution_count": 34,
   "metadata": {
    "collapsed": false
   },
   "outputs": [
    {
     "name": "stdout",
     "output_type": "stream",
     "text": [
      "        name gender  births\n",
      "0       Mary      F    7065\n",
      "1       Anna      F    2604\n",
      "2       Emma      F    2003\n",
      "942     John      M    9655\n",
      "943  William      M    9533\n"
     ]
    }
   ],
   "source": [
    "print names[(mask1) | (mask2)].head()"
   ]
  },
  {
   "cell_type": "markdown",
   "metadata": {},
   "source": [
    "and `&`, or `|`, not `~`"
   ]
  },
  {
   "cell_type": "code",
   "execution_count": 35,
   "metadata": {
    "collapsed": false
   },
   "outputs": [
    {
     "name": "stdout",
     "output_type": "stream",
     "text": [
      "     name gender  births\n",
      "0    Mary      F    7065\n",
      "2    Emma      F    2003\n",
      "4  Minnie      F    1746\n",
      "6     Ida      F    1472\n",
      "8  Bertha      F    1320\n"
     ]
    }
   ],
   "source": [
    "print names[::2].head()"
   ]
  },
  {
   "cell_type": "markdown",
   "metadata": {},
   "source": [
    "### Sorting"
   ]
  },
  {
   "cell_type": "markdown",
   "metadata": {},
   "source": [
    "Sort either index"
   ]
  },
  {
   "cell_type": "code",
   "execution_count": 36,
   "metadata": {
    "collapsed": false
   },
   "outputs": [
    {
     "name": "stdout",
     "output_type": "stream",
     "text": [
      "           name gender  births\n",
      "1999  Zachariah      M       5\n",
      "1998       York      M       5\n",
      "1997     Wright      M       5\n",
      "1996     Worthy      M       5\n",
      "1995     Woodie      M       5\n"
     ]
    }
   ],
   "source": [
    "print names.sort_index(ascending=False).head()"
   ]
  },
  {
   "cell_type": "code",
   "execution_count": 37,
   "metadata": {
    "collapsed": false
   },
   "outputs": [
    {
     "name": "stdout",
     "output_type": "stream",
     "text": [
      "   births gender       name\n",
      "0    7065      F       Mary\n",
      "1    2604      F       Anna\n",
      "2    2003      F       Emma\n",
      "3    1939      F  Elizabeth\n",
      "4    1746      F     Minnie\n"
     ]
    }
   ],
   "source": [
    "print names.sort_index(axis=1).head()"
   ]
  },
  {
   "cell_type": "markdown",
   "metadata": {},
   "source": [
    "Sort the data"
   ]
  },
  {
   "cell_type": "code",
   "execution_count": 38,
   "metadata": {
    "collapsed": false
   },
   "outputs": [
    {
     "name": "stdout",
     "output_type": "stream",
     "text": [
      "     bal  ids   names\n",
      "4  223.1   12  Ashley\n",
      "3   27.1   86     Jim\n",
      "0   10.2   23    John\n",
      "1   84.3   34    Matt\n",
      "2   72.9   83    Sara\n"
     ]
    }
   ],
   "source": [
    "users = pd.DataFrame(dic)\n",
    "print users.sort_values('names').head()"
   ]
  },
  {
   "cell_type": "code",
   "execution_count": 39,
   "metadata": {
    "collapsed": false
   },
   "outputs": [
    {
     "name": "stdout",
     "output_type": "stream",
     "text": [
      "        name gender  births\n",
      "942     John      M    9655\n",
      "943  William      M    9533\n",
      "0       Mary      F    7065\n",
      "944    James      M    5927\n",
      "945  Charles      M    5348\n"
     ]
    }
   ],
   "source": [
    "print names.sort_values(['births','name'], ascending=[False,True]).head()"
   ]
  },
  {
   "cell_type": "markdown",
   "metadata": {},
   "source": [
    "What are the top 10 names in 1880?"
   ]
  },
  {
   "cell_type": "code",
   "execution_count": 40,
   "metadata": {
    "collapsed": false
   },
   "outputs": [
    {
     "name": "stdout",
     "output_type": "stream",
     "text": [
      "        name gender  births\n",
      "949   Thomas      M    2534\n",
      "1       Anna      F    2604\n",
      "948   Joseph      M    2632\n",
      "947    Frank      M    3242\n",
      "946   George      M    5126\n",
      "945  Charles      M    5348\n",
      "944    James      M    5927\n",
      "0       Mary      F    7065\n",
      "943  William      M    9533\n",
      "942     John      M    9655\n"
     ]
    }
   ],
   "source": [
    "print names.sort_values('births').tail(10)"
   ]
  },
  {
   "cell_type": "code",
   "execution_count": 41,
   "metadata": {
    "collapsed": false
   },
   "outputs": [
    {
     "name": "stdout",
     "output_type": "stream",
     "text": [
      "        name gender  births\n",
      "0       Mary      F    7065\n",
      "1       Anna      F    2604\n",
      "2       Emma      F    2003\n",
      "3  Elizabeth      F    1939\n",
      "4     Minnie      F    1746\n",
      "5   Margaret      F    1578\n",
      "6        Ida      F    1472\n",
      "7      Alice      F    1414\n",
      "8     Bertha      F    1320\n",
      "9      Sarah      F    1288\n"
     ]
    }
   ],
   "source": [
    "print names[names['gender'] =='F'].sort_values('births', ascending=False).head(10)"
   ]
  },
  {
   "cell_type": "markdown",
   "metadata": {},
   "source": [
    "## Missing data"
   ]
  },
  {
   "cell_type": "markdown",
   "metadata": {},
   "source": [
    "Data from Roger Peng [Coursera](https://www.coursera.org) class [Computing for Data Analysis](https://www.coursera.org/course/compdata)."
   ]
  },
  {
   "cell_type": "code",
   "execution_count": 42,
   "metadata": {
    "collapsed": false
   },
   "outputs": [
    {
     "name": "stdout",
     "output_type": "stream",
     "text": [
      "   Ozone  Solar.R  Wind  Temp  Month  Day\n",
      "0     41      190   7.4    67      5    1\n",
      "1     36      118   8.0    72      5    2\n",
      "2     12      149  12.6    74      5    3\n",
      "3     18      313  11.5    62      5    4\n",
      "4    NaN      NaN  14.3    56      5    5\n",
      "5     28      NaN  14.9    66      5    6\n",
      "6     23      299   8.6    65      5    7\n",
      "7     19       99  13.8    59      5    8\n",
      "8      8       19  20.1    61      5    9\n",
      "9    NaN      194   8.6    69      5   10\n"
     ]
    }
   ],
   "source": [
    "data = pd.read_csv(os.path.join('data', 'hw1_data.csv'))\n",
    "print data.head(10)"
   ]
  },
  {
   "cell_type": "code",
   "execution_count": 43,
   "metadata": {
    "collapsed": false
   },
   "outputs": [
    {
     "name": "stdout",
     "output_type": "stream",
     "text": [
      "153\n"
     ]
    }
   ],
   "source": [
    "print len(data)"
   ]
  },
  {
   "cell_type": "markdown",
   "metadata": {},
   "source": [
    "Drop any row with one or more `NaN`"
   ]
  },
  {
   "cell_type": "code",
   "execution_count": 44,
   "metadata": {
    "collapsed": false
   },
   "outputs": [
    {
     "name": "stdout",
     "output_type": "stream",
     "text": [
      "111\n"
     ]
    }
   ],
   "source": [
    "print len(data.dropna())\n",
    "# help(data.dropna)"
   ]
  },
  {
   "cell_type": "code",
   "execution_count": 45,
   "metadata": {
    "collapsed": false
   },
   "outputs": [
    {
     "name": "stdout",
     "output_type": "stream",
     "text": [
      "    Ozone  Solar.R  Wind  Temp  Month  Day\n",
      "0      41      190   7.4    67      5    1\n",
      "1      36      118   8.0    72      5    2\n",
      "2      12      149  12.6    74      5    3\n",
      "3      18      313  11.5    62      5    4\n",
      "7      19       99  13.8    59      5    8\n",
      "8       8       19  20.1    61      5    9\n",
      "11     16      256   9.7    69      5   12\n",
      "12     11      290   9.2    66      5   13\n",
      "13     14      274  10.9    68      5   14\n",
      "14     18       65  13.2    58      5   15\n"
     ]
    }
   ],
   "source": [
    "print data[data!=299].dropna().head(10)"
   ]
  },
  {
   "cell_type": "markdown",
   "metadata": {},
   "source": [
    "Check for `null` values for a column."
   ]
  },
  {
   "cell_type": "code",
   "execution_count": 46,
   "metadata": {
    "collapsed": false
   },
   "outputs": [
    {
     "name": "stdout",
     "output_type": "stream",
     "text": [
      "0    False\n",
      "1    False\n",
      "2    False\n",
      "3    False\n",
      "4     True\n",
      "Name: Solar.R, dtype: bool\n"
     ]
    }
   ],
   "source": [
    "print data['Solar.R'].isnull().head()"
   ]
  },
  {
   "cell_type": "code",
   "execution_count": 47,
   "metadata": {
    "collapsed": false
   },
   "outputs": [
    {
     "name": "stdout",
     "output_type": "stream",
     "text": [
      "0     True\n",
      "1     True\n",
      "2     True\n",
      "3     True\n",
      "4    False\n",
      "Name: Solar.R, dtype: bool\n"
     ]
    }
   ],
   "source": [
    "print data['Solar.R'].notnull().head()"
   ]
  },
  {
   "cell_type": "markdown",
   "metadata": {},
   "source": [
    "Filling in missing values with `fillna()`."
   ]
  },
  {
   "cell_type": "code",
   "execution_count": 48,
   "metadata": {
    "collapsed": false
   },
   "outputs": [
    {
     "name": "stdout",
     "output_type": "stream",
     "text": [
      "0    190\n",
      "1    118\n",
      "2    149\n",
      "3    313\n",
      "4      0\n",
      "Name: Solar.R, dtype: float64\n"
     ]
    }
   ],
   "source": [
    "print data['Solar.R'].fillna(0).head()"
   ]
  },
  {
   "cell_type": "markdown",
   "metadata": {},
   "source": [
    "Several methods parameters for `fillna`.\n",
    "\n",
    "    ffill, limits, inplace, axiz, value"
   ]
  },
  {
   "cell_type": "markdown",
   "metadata": {},
   "source": [
    "## Summarizing and describing"
   ]
  },
  {
   "cell_type": "code",
   "execution_count": 49,
   "metadata": {
    "collapsed": false
   },
   "outputs": [
    {
     "data": {
      "text/html": [
       "<div>\n",
       "<table border=\"1\" class=\"dataframe\">\n",
       "  <thead>\n",
       "    <tr style=\"text-align: right;\">\n",
       "      <th></th>\n",
       "      <th>Ozone</th>\n",
       "      <th>Solar.R</th>\n",
       "      <th>Wind</th>\n",
       "      <th>Temp</th>\n",
       "      <th>Month</th>\n",
       "      <th>Day</th>\n",
       "    </tr>\n",
       "  </thead>\n",
       "  <tbody>\n",
       "    <tr>\n",
       "      <th>count</th>\n",
       "      <td>116.000000</td>\n",
       "      <td>146.000000</td>\n",
       "      <td>153.000000</td>\n",
       "      <td>153.000000</td>\n",
       "      <td>153.000000</td>\n",
       "      <td>153.000000</td>\n",
       "    </tr>\n",
       "    <tr>\n",
       "      <th>mean</th>\n",
       "      <td>42.129310</td>\n",
       "      <td>185.931507</td>\n",
       "      <td>9.957516</td>\n",
       "      <td>77.882353</td>\n",
       "      <td>6.993464</td>\n",
       "      <td>15.803922</td>\n",
       "    </tr>\n",
       "    <tr>\n",
       "      <th>std</th>\n",
       "      <td>32.987885</td>\n",
       "      <td>90.058422</td>\n",
       "      <td>3.523001</td>\n",
       "      <td>9.465270</td>\n",
       "      <td>1.416522</td>\n",
       "      <td>8.864520</td>\n",
       "    </tr>\n",
       "    <tr>\n",
       "      <th>min</th>\n",
       "      <td>1.000000</td>\n",
       "      <td>7.000000</td>\n",
       "      <td>1.700000</td>\n",
       "      <td>56.000000</td>\n",
       "      <td>5.000000</td>\n",
       "      <td>1.000000</td>\n",
       "    </tr>\n",
       "    <tr>\n",
       "      <th>25%</th>\n",
       "      <td>18.000000</td>\n",
       "      <td>115.750000</td>\n",
       "      <td>7.400000</td>\n",
       "      <td>72.000000</td>\n",
       "      <td>6.000000</td>\n",
       "      <td>8.000000</td>\n",
       "    </tr>\n",
       "    <tr>\n",
       "      <th>50%</th>\n",
       "      <td>31.500000</td>\n",
       "      <td>205.000000</td>\n",
       "      <td>9.700000</td>\n",
       "      <td>79.000000</td>\n",
       "      <td>7.000000</td>\n",
       "      <td>16.000000</td>\n",
       "    </tr>\n",
       "    <tr>\n",
       "      <th>75%</th>\n",
       "      <td>63.250000</td>\n",
       "      <td>258.750000</td>\n",
       "      <td>11.500000</td>\n",
       "      <td>85.000000</td>\n",
       "      <td>8.000000</td>\n",
       "      <td>23.000000</td>\n",
       "    </tr>\n",
       "    <tr>\n",
       "      <th>max</th>\n",
       "      <td>168.000000</td>\n",
       "      <td>334.000000</td>\n",
       "      <td>20.700000</td>\n",
       "      <td>97.000000</td>\n",
       "      <td>9.000000</td>\n",
       "      <td>31.000000</td>\n",
       "    </tr>\n",
       "  </tbody>\n",
       "</table>\n",
       "</div>"
      ],
      "text/plain": [
       "            Ozone     Solar.R        Wind        Temp       Month         Day\n",
       "count  116.000000  146.000000  153.000000  153.000000  153.000000  153.000000\n",
       "mean    42.129310  185.931507    9.957516   77.882353    6.993464   15.803922\n",
       "std     32.987885   90.058422    3.523001    9.465270    1.416522    8.864520\n",
       "min      1.000000    7.000000    1.700000   56.000000    5.000000    1.000000\n",
       "25%     18.000000  115.750000    7.400000   72.000000    6.000000    8.000000\n",
       "50%     31.500000  205.000000    9.700000   79.000000    7.000000   16.000000\n",
       "75%     63.250000  258.750000   11.500000   85.000000    8.000000   23.000000\n",
       "max    168.000000  334.000000   20.700000   97.000000    9.000000   31.000000"
      ]
     },
     "execution_count": 49,
     "metadata": {},
     "output_type": "execute_result"
    }
   ],
   "source": [
    "data.describe()"
   ]
  },
  {
   "cell_type": "code",
   "execution_count": 50,
   "metadata": {
    "collapsed": false
   },
   "outputs": [],
   "source": [
    "?data.describe"
   ]
  },
  {
   "cell_type": "code",
   "execution_count": 51,
   "metadata": {
    "collapsed": false
   },
   "outputs": [
    {
     "name": "stdout",
     "output_type": "stream",
     "text": [
      "Ozone      116\n",
      "Solar.R    146\n",
      "Wind       153\n",
      "Temp       153\n",
      "Month      153\n",
      "Day        153\n",
      "dtype: int64\n"
     ]
    }
   ],
   "source": [
    "print data.count()"
   ]
  },
  {
   "cell_type": "code",
   "execution_count": 52,
   "metadata": {
    "collapsed": false
   },
   "outputs": [
    {
     "name": "stdout",
     "output_type": "stream",
     "text": [
      "42.1293103448\n"
     ]
    }
   ],
   "source": [
    "print data['Ozone'].mean()"
   ]
  },
  {
   "cell_type": "markdown",
   "metadata": {},
   "source": [
    "Several methods\n",
    "\n",
    "    count, describe, min, max, argmin, argmax, sum, mean, median, var, std, pct_change\n"
   ]
  },
  {
   "cell_type": "code",
   "execution_count": 53,
   "metadata": {
    "collapsed": false
   },
   "outputs": [
    {
     "name": "stdout",
     "output_type": "stream",
     "text": [
      "   Ozone  Solar.R  Wind  Temp  Month  Day\n",
      "0     41      190   7.4    67      5    1\n",
      "1     36      118   8.0    72      5    2\n",
      "2     12      149  12.6    74      5    3\n",
      "3     18      313  11.5    62      5    4\n",
      "4    NaN      NaN  14.3    56      5    5\n"
     ]
    }
   ],
   "source": [
    "tmp = data.head(10).copy()\n",
    "print data.head()"
   ]
  },
  {
   "cell_type": "code",
   "execution_count": 54,
   "metadata": {
    "collapsed": false
   },
   "outputs": [
    {
     "name": "stdout",
     "output_type": "stream",
     "text": [
      "   Ozone  Solar.R  Wind  Temp  Month  Day\n",
      "0     41      190   7.4    67      5    1\n",
      "1     36      118   8.0    72      5    2\n",
      "2     12      149  12.6    74      5    3\n",
      "3     18      313  11.5    62      5    4\n",
      "4    NaN      NaN  14.3    56      5    5\n",
      "5     28      NaN  14.9    66      5    6\n",
      "6     23      299   8.6    65      5    7\n",
      "7     19       99  13.8    59      5    8\n",
      "8      8       19  20.1    61      5    9\n",
      "9    NaN      194   8.6    69      5   10\n"
     ]
    }
   ],
   "source": [
    "print tmp"
   ]
  },
  {
   "cell_type": "code",
   "execution_count": 55,
   "metadata": {
    "collapsed": false
   },
   "outputs": [
    {
     "name": "stderr",
     "output_type": "stream",
     "text": [
      "/Users/jake/anaconda/lib/python2.7/site-packages/ipykernel/__main__.py:1: SettingWithCopyWarning: \n",
      "A value is trying to be set on a copy of a slice from a DataFrame\n",
      "\n",
      "See the caveats in the documentation: http://pandas.pydata.org/pandas-docs/stable/indexing.html#indexing-view-versus-copy\n",
      "  if __name__ == '__main__':\n",
      "/Users/jake/anaconda/lib/python2.7/site-packages/ipykernel/__main__.py:2: SettingWithCopyWarning: \n",
      "A value is trying to be set on a copy of a slice from a DataFrame\n",
      "\n",
      "See the caveats in the documentation: http://pandas.pydata.org/pandas-docs/stable/indexing.html#indexing-view-versus-copy\n",
      "  from ipykernel import kernelapp as app\n"
     ]
    }
   ],
   "source": [
    "tmp['Day'][tmp['Day'] < tmp['Month']] = 4\n",
    "tmp['Ozone'][tmp['Ozone'] < 15 ] = 100"
   ]
  },
  {
   "cell_type": "code",
   "execution_count": 56,
   "metadata": {
    "collapsed": false
   },
   "outputs": [
    {
     "name": "stdout",
     "output_type": "stream",
     "text": [
      "   Ozone  Solar.R  Wind  Temp  Month  Day\n",
      "0     41      190   7.4    67      5    4\n",
      "1     36      118   8.0    72      5    4\n",
      "2    100      149  12.6    74      5    4\n",
      "3     18      313  11.5    62      5    4\n",
      "4    NaN      NaN  14.3    56      5    5\n",
      "5     28      NaN  14.9    66      5    6\n",
      "6     23      299   8.6    65      5    7\n",
      "7     19       99  13.8    59      5    8\n",
      "8    100       19  20.1    61      5    9\n",
      "9    NaN      194   8.6    69      5   10\n"
     ]
    }
   ],
   "source": [
    "print tmp"
   ]
  }
 ],
 "metadata": {
  "css": [
   ""
  ],
  "kernelspec": {
   "display_name": "Python 2",
   "language": "python",
   "name": "python2"
  },
  "language_info": {
   "codemirror_mode": {
    "name": "ipython",
    "version": 2
   },
   "file_extension": ".py",
   "mimetype": "text/x-python",
   "name": "python",
   "nbconvert_exporter": "python",
   "pygments_lexer": "ipython2",
   "version": "2.7.11"
  }
 },
 "nbformat": 4,
 "nbformat_minor": 0
}
